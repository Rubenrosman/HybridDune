{
 "cells": [
  {
   "cell_type": "code",
   "execution_count": 2,
   "metadata": {},
   "outputs": [],
   "source": [
    "# based on OSSI_04_Final_scripts from Ruben\n",
    "import os\n",
    "import numpy as np\n",
    "import pandas as pd\n",
    "from datetime import datetime, timedelta\n",
    "\n",
    "\n",
    "import xarray as xr\n",
    "import matplotlib.pyplot as plt\n",
    "import sys\n",
    "sys.path.append(r'C:\\Users\\ruro\\OneDrive - Boskalis\\Documents\\python\\Hybrid_Dune\\Pressure_sensors\\S1\\OSSI_04')\n",
    "from scipy.signal import welch\n",
    "\n",
    "#import puv \n",
    "\n"
   ]
  },
  {
   "cell_type": "code",
   "execution_count": 3,
   "metadata": {},
   "outputs": [],
   "source": [
    "def ossi_data_reader(datafolder):\n",
    "    '''\n",
    "    author: Paul van Wiechen\n",
    "\n",
    "    Function to read all WLOG_XXX files in a certain subfolder.\n",
    "    Make sure that only WLOG_XXX files are in this folder and no other files.\n",
    "    Only WLOG_XXX files with minimally 2 rows are appended to the dataframe.\n",
    "    A correct WLOG_XXX file should contain a first line with OSSI configuration, and a second line (third row) with starting time\n",
    "    Timestep and sampling frequency are retrieved from the first row. Starting time from the next row\n",
    "    Returns a dataframe with a time column and pressure column in dbars\n",
    "    '''\n",
    "\n",
    "    ossi = pd.DataFrame({\n",
    "        't': [],\n",
    "        'p': []})\n",
    "\n",
    "    directory = str(datafolder)\n",
    "\n",
    "    for filename in os.listdir(directory):\n",
    "        f = os.path.join(directory, filename)\n",
    "\n",
    "        # checking if it is a file\n",
    "        if os.path.isfile(f):\n",
    "            print('Currently concatenating file ' + f)\n",
    "            ossi_raw = pd.read_csv(f, header=None, nrows=4, sep=',')\n",
    "            if len(ossi_raw.index) > 2:\n",
    "                t_0 = datetime(int(str(20) + ossi_raw[0][1][1:]), int(ossi_raw[1][1][1:]), int(ossi_raw[2][1][1:]),\n",
    "                               int(ossi_raw[3][1][1:]), int(ossi_raw[4][1][1:]), int(ossi_raw[5][1][1:]))\n",
    "                dt = 1 / float(ossi_raw[6][0][1:])\n",
    "                ossi_tot = pd.read_csv(f, skiprows=3, usecols=[0, 1, 2, 3, 4, 5, 6, 7, 8, 9, 10, 11], header=None,\n",
    "                                       sep=',', skipinitialspace=True).to_numpy().flatten()\n",
    "                ossi_temp = pd.DataFrame({\n",
    "                    't': np.array([t_0 + timedelta(seconds=dt * i) for i in range(len(ossi_tot))]),\n",
    "                    'p': ossi_tot})\n",
    "\n",
    "                ossi_temp.dropna(inplace=True)\n",
    "                ossi_temp['p'] = ossi_temp['p'] * 1e5  # Bar to Pa\n",
    "\n",
    "                ossi = pd.concat([ossi, ossi_temp], ignore_index=True)\n",
    "\n",
    "    ossi['p'] = pd.to_numeric(ossi['p'])\n",
    "    ossi['t'] = pd.to_datetime(ossi['t'])\n",
    "\n",
    "    return ossi.set_index('t')\n"
   ]
  },
  {
   "cell_type": "code",
   "execution_count": 12,
   "metadata": {},
   "outputs": [
    {
     "name": "stdout",
     "output_type": "stream",
     "text": [
      "Currently concatenating file O:\\HybridDune experiment\\data RBR, OSSI\\Ossi data\\OSSI 2\\WLOG_001.CSV\n"
     ]
    },
    {
     "name": "stderr",
     "output_type": "stream",
     "text": [
      "C:\\Users\\dpoppema\\AppData\\Local\\Temp\\ipykernel_23452\\1382462514.py:39: FutureWarning: The behavior of DataFrame concatenation with empty or all-NA entries is deprecated. In a future version, this will no longer exclude empty or all-NA columns when determining the result dtypes. To retain the old behavior, exclude the relevant entries before the concat operation.\n",
      "  ossi = pd.concat([ossi, ossi_temp], ignore_index=True)\n"
     ]
    },
    {
     "name": "stdout",
     "output_type": "stream",
     "text": [
      "Currently concatenating file O:\\HybridDune experiment\\data RBR, OSSI\\Ossi data\\OSSI 2\\WLOG_002.CSV\n",
      "Currently concatenating file O:\\HybridDune experiment\\data RBR, OSSI\\Ossi data\\OSSI 2\\WLOG_003.CSV\n",
      "Currently concatenating file O:\\HybridDune experiment\\data RBR, OSSI\\Ossi data\\OSSI 2\\WLOG_004.CSV\n",
      "Currently concatenating file O:\\HybridDune experiment\\data RBR, OSSI\\Ossi data\\OSSI 2\\WLOG_005.CSV\n",
      "Currently concatenating file O:\\HybridDune experiment\\data RBR, OSSI\\Ossi data\\OSSI 2\\WLOG_006.CSV\n",
      "Currently concatenating file O:\\HybridDune experiment\\data RBR, OSSI\\Ossi data\\OSSI 2\\WLOG_007.CSV\n",
      "Currently concatenating file O:\\HybridDune experiment\\data RBR, OSSI\\Ossi data\\OSSI 2\\WLOG_008.CSV\n",
      "Currently concatenating file O:\\HybridDune experiment\\data RBR, OSSI\\Ossi data\\OSSI 2\\WLOG_009.CSV\n",
      "Currently concatenating file O:\\HybridDune experiment\\data RBR, OSSI\\Ossi data\\OSSI 2\\WLOG_010.CSV\n",
      "Currently concatenating file O:\\HybridDune experiment\\data RBR, OSSI\\Ossi data\\OSSI 2\\WLOG_011.CSV\n",
      "Currently concatenating file O:\\HybridDune experiment\\data RBR, OSSI\\Ossi data\\OSSI 2\\WLOG_012.CSV\n",
      "Currently concatenating file O:\\HybridDune experiment\\data RBR, OSSI\\Ossi data\\OSSI 3\\WLOG_003.CSV\n",
      "Currently concatenating file O:\\HybridDune experiment\\data RBR, OSSI\\Ossi data\\OSSI 3\\WLOG_004.CSV\n"
     ]
    },
    {
     "name": "stderr",
     "output_type": "stream",
     "text": [
      "C:\\Users\\dpoppema\\AppData\\Local\\Temp\\ipykernel_23452\\1382462514.py:39: FutureWarning: The behavior of DataFrame concatenation with empty or all-NA entries is deprecated. In a future version, this will no longer exclude empty or all-NA columns when determining the result dtypes. To retain the old behavior, exclude the relevant entries before the concat operation.\n",
      "  ossi = pd.concat([ossi, ossi_temp], ignore_index=True)\n"
     ]
    },
    {
     "name": "stdout",
     "output_type": "stream",
     "text": [
      "Currently concatenating file O:\\HybridDune experiment\\data RBR, OSSI\\Ossi data\\OSSI 3\\WLOG_005.CSV\n",
      "Currently concatenating file O:\\HybridDune experiment\\data RBR, OSSI\\Ossi data\\OSSI 3\\WLOG_006.CSV\n",
      "Currently concatenating file O:\\HybridDune experiment\\data RBR, OSSI\\Ossi data\\OSSI 3\\WLOG_007.CSV\n",
      "Currently concatenating file O:\\HybridDune experiment\\data RBR, OSSI\\Ossi data\\OSSI 3\\WLOG_008.CSV\n",
      "Currently concatenating file O:\\HybridDune experiment\\data RBR, OSSI\\Ossi data\\OSSI 3\\WLOG_009.CSV\n",
      "Currently concatenating file O:\\HybridDune experiment\\data RBR, OSSI\\Ossi data\\OSSI 3\\WLOG_010.CSV\n",
      "Currently concatenating file O:\\HybridDune experiment\\data RBR, OSSI\\Ossi data\\OSSI 3\\WLOG_011.CSV\n",
      "Currently concatenating file O:\\HybridDune experiment\\data RBR, OSSI\\Ossi data\\OSSI 3\\WLOG_012.CSV\n",
      "Currently concatenating file O:\\HybridDune experiment\\data RBR, OSSI\\Ossi data\\OSSI 3\\WLOG_013.CSV\n",
      "Currently concatenating file O:\\HybridDune experiment\\data RBR, OSSI\\Ossi data\\OSSI 3\\WLOG_014.CSV\n",
      "Currently concatenating file O:\\HybridDune experiment\\data RBR, OSSI\\Ossi data\\OSSI 3\\WLOG_015.CSV\n",
      "Currently concatenating file O:\\HybridDune experiment\\data RBR, OSSI\\Ossi data\\OSSI 4\\WLOG_001.CSV\n",
      "Currently concatenating file O:\\HybridDune experiment\\data RBR, OSSI\\Ossi data\\OSSI 4\\WLOG_002.CSV\n"
     ]
    },
    {
     "name": "stderr",
     "output_type": "stream",
     "text": [
      "C:\\Users\\dpoppema\\AppData\\Local\\Temp\\ipykernel_23452\\1382462514.py:39: FutureWarning: The behavior of DataFrame concatenation with empty or all-NA entries is deprecated. In a future version, this will no longer exclude empty or all-NA columns when determining the result dtypes. To retain the old behavior, exclude the relevant entries before the concat operation.\n",
      "  ossi = pd.concat([ossi, ossi_temp], ignore_index=True)\n"
     ]
    },
    {
     "name": "stdout",
     "output_type": "stream",
     "text": [
      "Currently concatenating file O:\\HybridDune experiment\\data RBR, OSSI\\Ossi data\\OSSI 4\\WLOG_003.CSV\n",
      "Currently concatenating file O:\\HybridDune experiment\\data RBR, OSSI\\Ossi data\\OSSI 4\\WLOG_004.CSV\n",
      "Currently concatenating file O:\\HybridDune experiment\\data RBR, OSSI\\Ossi data\\OSSI 4\\WLOG_005.CSV\n",
      "Currently concatenating file O:\\HybridDune experiment\\data RBR, OSSI\\Ossi data\\OSSI 4\\WLOG_006.CSV\n",
      "Currently concatenating file O:\\HybridDune experiment\\data RBR, OSSI\\Ossi data\\OSSI 4\\WLOG_007.CSV\n",
      "Currently concatenating file O:\\HybridDune experiment\\data RBR, OSSI\\Ossi data\\OSSI 4\\WLOG_008.CSV\n",
      "Currently concatenating file O:\\HybridDune experiment\\data RBR, OSSI\\Ossi data\\OSSI 4\\WLOG_009.CSV\n",
      "Currently concatenating file O:\\HybridDune experiment\\data RBR, OSSI\\Ossi data\\OSSI 4\\WLOG_010.CSV\n",
      "Currently concatenating file O:\\HybridDune experiment\\data RBR, OSSI\\Ossi data\\OSSI 4\\WLOG_011.CSV\n",
      "Currently concatenating file O:\\HybridDune experiment\\data RBR, OSSI\\Ossi data\\OSSI 4\\WLOG_012.CSV\n",
      "Currently concatenating file O:\\HybridDune experiment\\data RBR, OSSI\\Ossi data\\OSSI 4\\WLOG_013.CSV\n",
      "Currently concatenating file O:\\HybridDune experiment\\data RBR, OSSI\\Ossi data\\OSSI 5\\WLOG_001.CSV\n",
      "Currently concatenating file O:\\HybridDune experiment\\data RBR, OSSI\\Ossi data\\OSSI 5\\WLOG_002.CSV\n"
     ]
    },
    {
     "name": "stderr",
     "output_type": "stream",
     "text": [
      "C:\\Users\\dpoppema\\AppData\\Local\\Temp\\ipykernel_23452\\1382462514.py:39: FutureWarning: The behavior of DataFrame concatenation with empty or all-NA entries is deprecated. In a future version, this will no longer exclude empty or all-NA columns when determining the result dtypes. To retain the old behavior, exclude the relevant entries before the concat operation.\n",
      "  ossi = pd.concat([ossi, ossi_temp], ignore_index=True)\n"
     ]
    },
    {
     "name": "stdout",
     "output_type": "stream",
     "text": [
      "Currently concatenating file O:\\HybridDune experiment\\data RBR, OSSI\\Ossi data\\OSSI 5\\WLOG_003.CSV\n",
      "Currently concatenating file O:\\HybridDune experiment\\data RBR, OSSI\\Ossi data\\OSSI 5\\WLOG_004.CSV\n",
      "Currently concatenating file O:\\HybridDune experiment\\data RBR, OSSI\\Ossi data\\OSSI 5\\WLOG_005.CSV\n",
      "Currently concatenating file O:\\HybridDune experiment\\data RBR, OSSI\\Ossi data\\OSSI 5\\WLOG_007.CSV\n",
      "Currently concatenating file O:\\HybridDune experiment\\data RBR, OSSI\\Ossi data\\OSSI 5\\WLOG_008.CSV\n",
      "Currently concatenating file O:\\HybridDune experiment\\data RBR, OSSI\\Ossi data\\OSSI 5\\WLOG_009.CSV\n",
      "Currently concatenating file O:\\HybridDune experiment\\data RBR, OSSI\\Ossi data\\OSSI 5\\WLOG_010.CSV\n",
      "Currently concatenating file O:\\HybridDune experiment\\data RBR, OSSI\\Ossi data\\OSSI 5\\WLOG_011.CSV\n",
      "Currently concatenating file O:\\HybridDune experiment\\data RBR, OSSI\\Ossi data\\OSSI 5\\WLOG_012.CSV\n",
      "Currently concatenating file O:\\HybridDune experiment\\data RBR, OSSI\\Ossi data\\OSSI 5\\WLOG_013.CSV\n",
      "Currently concatenating file O:\\HybridDune experiment\\data RBR, OSSI\\Ossi data\\OSSI 5\\WLOG_014.CSV\n",
      "Currently concatenating file O:\\HybridDune experiment\\data RBR, OSSI\\Ossi data\\OSSI 6\\WLOG_001.CSV\n",
      "Currently concatenating file O:\\HybridDune experiment\\data RBR, OSSI\\Ossi data\\OSSI 6\\WLOG_002.CSV\n"
     ]
    },
    {
     "name": "stderr",
     "output_type": "stream",
     "text": [
      "C:\\Users\\dpoppema\\AppData\\Local\\Temp\\ipykernel_23452\\1382462514.py:39: FutureWarning: The behavior of DataFrame concatenation with empty or all-NA entries is deprecated. In a future version, this will no longer exclude empty or all-NA columns when determining the result dtypes. To retain the old behavior, exclude the relevant entries before the concat operation.\n",
      "  ossi = pd.concat([ossi, ossi_temp], ignore_index=True)\n"
     ]
    },
    {
     "name": "stdout",
     "output_type": "stream",
     "text": [
      "Currently concatenating file O:\\HybridDune experiment\\data RBR, OSSI\\Ossi data\\OSSI 6\\WLOG_003.CSV\n",
      "Currently concatenating file O:\\HybridDune experiment\\data RBR, OSSI\\Ossi data\\OSSI 6\\WLOG_004.CSV\n",
      "Currently concatenating file O:\\HybridDune experiment\\data RBR, OSSI\\Ossi data\\OSSI 6\\WLOG_005.CSV\n",
      "Currently concatenating file O:\\HybridDune experiment\\data RBR, OSSI\\Ossi data\\OSSI 6\\WLOG_006.CSV\n",
      "Currently concatenating file O:\\HybridDune experiment\\data RBR, OSSI\\Ossi data\\OSSI 6\\WLOG_007.CSV\n",
      "Currently concatenating file O:\\HybridDune experiment\\data RBR, OSSI\\Ossi data\\OSSI 6\\WLOG_008.CSV\n",
      "Currently concatenating file O:\\HybridDune experiment\\data RBR, OSSI\\Ossi data\\OSSI 6\\WLOG_009.CSV\n",
      "Currently concatenating file O:\\HybridDune experiment\\data RBR, OSSI\\Ossi data\\OSSI 6\\WLOG_010.CSV\n",
      "Currently concatenating file O:\\HybridDune experiment\\data RBR, OSSI\\Ossi data\\OSSI 6\\WLOG_011.CSV\n",
      "Currently concatenating file O:\\HybridDune experiment\\data RBR, OSSI\\Ossi data\\OSSI 6\\WLOG_012.CSV\n",
      "Currently concatenating file O:\\HybridDune experiment\\data RBR, OSSI\\Ossi data\\OSSI 6\\WLOG_013.CSV\n",
      "Currently concatenating file O:\\HybridDune experiment\\data RBR, OSSI\\Ossi data\\OSSI 7\\WLOG_001.CSV\n",
      "Currently concatenating file O:\\HybridDune experiment\\data RBR, OSSI\\Ossi data\\OSSI 7\\WLOG_002.CSV\n"
     ]
    },
    {
     "name": "stderr",
     "output_type": "stream",
     "text": [
      "C:\\Users\\dpoppema\\AppData\\Local\\Temp\\ipykernel_23452\\1382462514.py:39: FutureWarning: The behavior of DataFrame concatenation with empty or all-NA entries is deprecated. In a future version, this will no longer exclude empty or all-NA columns when determining the result dtypes. To retain the old behavior, exclude the relevant entries before the concat operation.\n",
      "  ossi = pd.concat([ossi, ossi_temp], ignore_index=True)\n"
     ]
    },
    {
     "name": "stdout",
     "output_type": "stream",
     "text": [
      "Currently concatenating file O:\\HybridDune experiment\\data RBR, OSSI\\Ossi data\\OSSI 7\\WLOG_003.CSV\n",
      "Currently concatenating file O:\\HybridDune experiment\\data RBR, OSSI\\Ossi data\\OSSI 7\\WLOG_004.CSV\n",
      "Currently concatenating file O:\\HybridDune experiment\\data RBR, OSSI\\Ossi data\\OSSI 7\\WLOG_005.CSV\n",
      "Currently concatenating file O:\\HybridDune experiment\\data RBR, OSSI\\Ossi data\\OSSI 7\\WLOG_006.CSV\n",
      "Currently concatenating file O:\\HybridDune experiment\\data RBR, OSSI\\Ossi data\\OSSI 7\\WLOG_007.CSV\n",
      "Currently concatenating file O:\\HybridDune experiment\\data RBR, OSSI\\Ossi data\\OSSI 7\\WLOG_008.CSV\n",
      "Currently concatenating file O:\\HybridDune experiment\\data RBR, OSSI\\Ossi data\\OSSI 7\\WLOG_009.CSV\n",
      "Currently concatenating file O:\\HybridDune experiment\\data RBR, OSSI\\Ossi data\\OSSI 7\\WLOG_010.CSV\n",
      "Currently concatenating file O:\\HybridDune experiment\\data RBR, OSSI\\Ossi data\\OSSI 7\\WLOG_011.CSV\n",
      "Currently concatenating file O:\\HybridDune experiment\\data RBR, OSSI\\Ossi data\\OSSI 7\\WLOG_012.CSV\n",
      "Currently concatenating file O:\\HybridDune experiment\\data RBR, OSSI\\Ossi data\\OSSI 7\\WLOG_013.CSV\n",
      "Currently concatenating file O:\\HybridDune experiment\\data RBR, OSSI\\Ossi data\\OSSI 8\\WLOG_001.CSV\n",
      "Currently concatenating file O:\\HybridDune experiment\\data RBR, OSSI\\Ossi data\\OSSI 8\\WLOG_002.CSV\n"
     ]
    },
    {
     "name": "stderr",
     "output_type": "stream",
     "text": [
      "C:\\Users\\dpoppema\\AppData\\Local\\Temp\\ipykernel_23452\\1382462514.py:39: FutureWarning: The behavior of DataFrame concatenation with empty or all-NA entries is deprecated. In a future version, this will no longer exclude empty or all-NA columns when determining the result dtypes. To retain the old behavior, exclude the relevant entries before the concat operation.\n",
      "  ossi = pd.concat([ossi, ossi_temp], ignore_index=True)\n"
     ]
    },
    {
     "name": "stdout",
     "output_type": "stream",
     "text": [
      "Currently concatenating file O:\\HybridDune experiment\\data RBR, OSSI\\Ossi data\\OSSI 8\\WLOG_003.CSV\n",
      "Currently concatenating file O:\\HybridDune experiment\\data RBR, OSSI\\Ossi data\\OSSI 8\\WLOG_004.CSV\n",
      "Currently concatenating file O:\\HybridDune experiment\\data RBR, OSSI\\Ossi data\\OSSI 8\\WLOG_005.CSV\n",
      "Currently concatenating file O:\\HybridDune experiment\\data RBR, OSSI\\Ossi data\\OSSI 8\\WLOG_006.CSV\n",
      "Currently concatenating file O:\\HybridDune experiment\\data RBR, OSSI\\Ossi data\\OSSI 8\\wlog_007.CSV\n",
      "Currently concatenating file O:\\HybridDune experiment\\data RBR, OSSI\\Ossi data\\OSSI 8\\WLOG_008.CSV\n",
      "Currently concatenating file O:\\HybridDune experiment\\data RBR, OSSI\\Ossi data\\OSSI 8\\WLOG_009.CSV\n",
      "Currently concatenating file O:\\HybridDune experiment\\data RBR, OSSI\\Ossi data\\OSSI 8\\WLOG_010.CSV\n",
      "Currently concatenating file O:\\HybridDune experiment\\data RBR, OSSI\\Ossi data\\OSSI 8\\WLOG_011.CSV\n",
      "Currently concatenating file O:\\HybridDune experiment\\data RBR, OSSI\\Ossi data\\OSSI 8\\WLOG_012.CSV\n",
      "Currently concatenating file O:\\HybridDune experiment\\data RBR, OSSI\\Ossi data\\OSSI 8\\WLOG_013.CSV\n"
     ]
    }
   ],
   "source": [
    "experimentFolder = r\"O:\\HybridDune experiment\\data RBR, OSSI\\Ossi data\"    #Grand map\n",
    "subfolder_in_all = ['OSSI 1', 'OSSI 2', 'OSSI 3', 'OSSI 4', 'OSSI 5', 'OSSI 6', 'OSSI 7', 'OSSI 8'] # subfolder where file is sitting within experimentFolder (on O drive Daan)\n",
    "for i in range(1,8):\n",
    "    subfolder_in = subfolder_in_all[i]\n",
    "    dfp = ossi_data_reader(os.path.join(experimentFolder,subfolder_in))                                                #specific map for data OSSI\n",
    "\n",
    "    instrument = subfolder_in#'OSSI_04'          # Specific name instrument\n",
    "    sf = 20                          # Hz, sampling frequency\n",
    "    xRD = 72478.479                   # location x-coord\n",
    "    yRD = 452138.636                   # location y-coord\n",
    "    serial_number = '18.09.00.08'    # unique serial number #not correct\n",
    "\n",
    "    rho = 1027      # Density of sea water\n",
    "    g = 9.8125        # Gravitational force\n",
    "    zb = 0.687      # Height of sea bed NAP   #23/12/2024\n",
    "    zi = 1.339      # Height of instrument NAP\n",
    "\n",
    "    ds = dfp.to_xarray()\n",
    "    ds['p'] = ds.p.astype('int32')\n",
    "    ds.p.attrs = {'long_name': 'pressure', 'units': 'Pa'}\n",
    "\n",
    "    # add global attribute metadata\n",
    "    ds.attrs = {\n",
    "        'Conventions': 'CF-1.6',\n",
    "        'name': '{}'.format(instrument),\n",
    "        'instrument': '{}'.format(instrument),\n",
    "        'instrument type': 'OSSI',\n",
    "        'instrument serial number': '{}'.format(serial_number),\n",
    "        'epsg': 28992,\n",
    "        'x': xRD,\n",
    "        'y': yRD,\n",
    "        'sf': 20,\n",
    "        'time zone': 'UTC+2',\n",
    "        'summary': 'Hybrid-dune experiment',\n",
    "        'contact person': 'Ruben Rosman',\n",
    "        'emailadres': 'r.g.c.rosman@student.tudelft.nl',\n",
    "        'construction datetime': datetime.now().strftime(\"%d-%b-%Y (%H:%M:%S)\"),\n",
    "        'version': 'v1',\n",
    "        'version comments': 'constructed with xarray'}\n",
    "\n",
    "    #if nothing else, at least specify lossless zlib compression\n",
    "    encoding = {var: {\"zlib\": True, \"complevel\": 4} for var in list(ds.data_vars) + list(ds.coords)}  # Apply deflate compression to all variables and coordinates in netCDF\n",
    "\n",
    "    # save to file\n",
    "    if not os.path.isdir(os.path.join(experimentFolder,'raw_netcdf')):\n",
    "        os.mkdir(os.path.join(experimentFolder,'raw_netcdf'))\n",
    "    ncFilePath = os.path.join(experimentFolder, 'raw_netcdf', instrument + '.nc')\n",
    "    ds.to_netcdf(ncFilePath, encoding=encoding)\n"
   ]
  },
  {
   "cell_type": "code",
   "execution_count": 11,
   "metadata": {},
   "outputs": [],
   "source": [
    "instrument = subfolder_in#'OSSI_04'          # Specific name instrument\n",
    "ncFilePath = os.path.join(experimentFolder, 'raw_netcdf', instrument + '.nc')\n",
    "ds.to_netcdf(ncFilePath, encoding=encoding)"
   ]
  }
 ],
 "metadata": {
  "kernelspec": {
   "display_name": "lidar",
   "language": "python",
   "name": "python3"
  },
  "language_info": {
   "codemirror_mode": {
    "name": "ipython",
    "version": 3
   },
   "file_extension": ".py",
   "mimetype": "text/x-python",
   "name": "python",
   "nbconvert_exporter": "python",
   "pygments_lexer": "ipython3",
   "version": "3.10.16"
  }
 },
 "nbformat": 4,
 "nbformat_minor": 2
}
