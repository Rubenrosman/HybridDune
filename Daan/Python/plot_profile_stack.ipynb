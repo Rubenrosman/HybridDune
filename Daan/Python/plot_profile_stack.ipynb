{
 "cells": [
  {
   "cell_type": "code",
   "execution_count": null,
   "metadata": {},
   "outputs": [],
   "source": [
    "import pandas as pd\n",
    "import numpy as np\n",
    "import matplotlib.pyplot as plt\n",
    "import netCDF4 as nc4"
   ]
  },
  {
   "cell_type": "code",
   "execution_count": 8,
   "metadata": {},
   "outputs": [],
   "source": [
    "# define functions\n",
    "def sph2cart(azimuth,elevation,r):\n",
    "    rcoselev = r * np.cos(elevation)\n",
    "    x = rcoselev * np.cos(azimuth)\n",
    "    y = rcoselev * np.sin(azimuth)\n",
    "    z = r * np.sin(elevation)\n",
    "    return x, y, z\n",
    "\n",
    "def rad2deg(angleInRadians):\n",
    "    angleInDegrees = 180/np.pi * angleInRadians\n",
    "    return angleInDegrees\n",
    "\n",
    "def deg2rad(angleInDegrees):\n",
    "    angleInRadians = np.pi/180 * angleInDegrees\n",
    "    return angleInRadians"
   ]
  },
  {
   "cell_type": "code",
   "execution_count": null,
   "metadata": {},
   "outputs": [
    {
     "name": "stdout",
     "output_type": "stream",
     "text": [
      "<class 'netCDF4.Variable'>\n",
      "uint16 radius_lidar(echos, profile_number, obs_number, time)\n",
      "    _FillValue: 0\n",
      "    long name: distance (radius) from lidar to point\n",
      "    units: mm\n",
      "    comment: radius, part of polar coordinates of points. Polar angles per point can be calculated from the profile_angle and ini_beam_angle\n",
      "    dimensions: T x 720 x 16 x 3, for number of point clouds x (360°x0.5° angular resolution) x 16 profiles x 3 echos. The lidar registers at most 3 echos at each angle, usually less.\n",
      "unlimited dimensions: \n",
      "current shape = (3, 16, 720, 15240)\n",
      "filling on\n"
     ]
    },
    {
     "data": {
      "text/plain": [
       "(3, 720, 1800)"
      ]
     },
     "execution_count": 9,
     "metadata": {},
     "output_type": "execute_result"
    }
   ],
   "source": [
    "# load netcdf\n",
    "map_file = \"O:\\\\HybridDune experiment\\\\2024-12-18 to 2024-12-20, Storm 1\\Lidars\\\\20241220_LiDAR1\\\\storm1_lidar1_polar_10sInterval.nc\"\n",
    "i_t1= 0\n",
    "i_window = 1800 # 180 point clouds = 1800s = 30min\n",
    "\n",
    "ncid = nc4.Dataset(map_file,'r')\n",
    "#print(ncid)  #uncomment to so info of netcdf\n",
    "#for dim in ncid.dimensions.values():\n",
    "    #print(dim)\n",
    "print(ncid['radius_lidar'])\n",
    "\n",
    "t_string = ncid.variables['time_string'][i_t1:i_t1+i_window]\n",
    "radius_lidar   = ncid.variables['radius_lidar'][0:3,2,0:720,i_t1:i_t1+i_window]/1000 # echo 1-3, profile 3, angle 0-720, t ...\n",
    "profile_angle  = ncid.variables['profile_angle'][2] # third profile\n",
    "ini_beam_angle = ncid.variables['ini_beam_angle'][2] # third profile\n",
    "\n",
    "radius_lidar.shape"
   ]
  },
  {
   "cell_type": "code",
   "execution_count": null,
   "metadata": {},
   "outputs": [
    {
     "data": {
      "text/plain": [
       "(720,)"
      ]
     },
     "execution_count": 11,
     "metadata": {},
     "output_type": "execute_result"
    }
   ],
   "source": [
    "# calculate profile angle. \n",
    "# The netcdf contains a single value for each of the 16 profiles, corresponding to the first point. Angular resolution of 0.5°, so every next point has an angle of 0.5° more \n",
    "angle_laserplane = profile_angle\n",
    "angle_laserbeam  = ini_beam_angle + np.arange(0, 360, 0.5)\n",
    "# angle_laserbeam = np.tile(angle_laserbeam,(radius_lidar.shape[2],1)).T # repeat (in the second dimension) for n_pointclouds (taken from the 3rd dim of radius_lidar)\n",
    "   # use second line instead if a line is plotted for every cloud, instead of one line for the average\n",
    "\n",
    "angle_laserbeam.shape\n",
    "\n"
   ]
  },
  {
   "cell_type": "code",
   "execution_count": null,
   "metadata": {},
   "outputs": [
    {
     "data": {
      "image/png": "[encoded data removed]",
      "text/plain": [
       "<Figure size 640x480 with 1 Axes>"
      ]
     },
     "metadata": {},
     "output_type": "display_data"
    }
   ],
   "source": [
    "# Determine max range, filter\n",
    "# r_filtered = np.nanmax(radius_lidar,0) # max over echos, so largest distance if multiple echos measured\n",
    "r_filtered = np.nanmax(radius_lidar,(0, 2)) # max over echos and time\n",
    "r_filtered.shape\n",
    "\n",
    "# filter regions\n",
    "hoek_use_1 = -90  # dont plot angles between -180° and -90°\n",
    "hoek_use_2 = 105  # dont plot angles between 105° and 180°\n",
    "hoek_frame_skip =   np.array([[-17, -15.5],[-14, -11],[-2.5, -0.5]])  # skip the angles -17°to-15.5°; -14°to-11°and -2.5°to-0.5°: frame visible. (for some lines -13.5 and/or -11.5 would be enough)\n",
    "                                                                      # NB: only checked for profiel 3 (recht vooruit), niet voor andere lijnen\n",
    "x_skip_area = 6   # delete every point that is below x=6 and (simultaneously) above z=-1m.\n",
    "z_skip_area = -1\n",
    "x_plot_max = 12.5 # skip everything past x=12.5m, beyond dune crest (irrespective of z)\n",
    "z_plot_max = 0.5  # skip everything above z=0.5m, above dune crest (irrespective of x)\n",
    "\n",
    "# filter (in polar lidar coordinates) ----------------------------------------------\n",
    "r_filtered.mask[angle_laserbeam<hoek_use_1]  = True # remove around lidar\n",
    "r_filtered.mask[angle_laserbeam>hoek_use_2]  = True # remove around lidar\n",
    "\n",
    "r_filtered.mask[ np.logical_and(angle_laserbeam>hoek_frame_skip[0,0], angle_laserbeam<hoek_frame_skip[0,1]) ] = True # remove around lidar\n",
    "r_filtered.mask[ np.logical_and(angle_laserbeam>hoek_frame_skip[1,0], angle_laserbeam<hoek_frame_skip[1,1]) ] = True # remove around lidar\n",
    "r_filtered.mask[ np.logical_and(angle_laserbeam>hoek_frame_skip[2,0], angle_laserbeam<hoek_frame_skip[2,1]) ] = True # remove around lidar\n",
    "\n",
    "# convert to local x,y,z coordinates (rough) ----------------------------------------\n",
    "[x_lidar,y_lidar,z_lidar] = sph2cart( deg2rad(angle_laserbeam), deg2rad(angle_laserplane), r_filtered ) # convert to cartesian xyz coordinates, in mm\n",
    "\n",
    "# convert to local coordinates (rough). # to do: use gps allignment.\n",
    "z_local = -x_lidar\n",
    "x_local = y_lidar\n",
    "\n",
    "# filter (in local coordinates) ----------------------------------------\n",
    "z_local.mask[ np.logical_and(x_local<x_skip_area, z_local>z_skip_area)]  = True # remove around lidar\n",
    "z_local.mask[ x_local > x_plot_max]  = True # remove beyond crest\n",
    "z_local.mask[ z_local > z_plot_max]  = True # remove above crest\n",
    "\n",
    "# Plot -------------------------------------------------------------------\n",
    "fig, ax = plt.subplots()\n",
    "ax.plot(x_local, z_local,'.')\n",
    "ax.plot(0,0,'*r')\n",
    "# ax.grid(True)\n",
    "plt.show()"
   ]
  },
  {
   "cell_type": "code",
   "execution_count": null,
   "metadata": {},
   "outputs": [
    {
     "data": {
      "text/plain": [
       "array([7., 8.])"
      ]
     },
     "execution_count": 13,
     "metadata": {},
     "output_type": "execute_result"
    }
   ],
   "source": [
    "# trying code\n",
    "a = 3\n",
    "b = range(6)\n",
    "#for n in b:\n",
    "  #print(n) \n",
    "\n",
    "arr = np.array([ [1,2],[3,4],[5, np.nan],[7,8] ])\n",
    "row_vec = np.arange(1, 3) # 1 to 2\n",
    "col_vec = np.array( [[1], [2], [3]] )\n",
    "row_vec3 = np.arange(1, 4) # 1 to 2\n",
    "\n",
    "np.nanmax(arr,0)"
   ]
  },
  {
   "cell_type": "code",
   "execution_count": 14,
   "metadata": {},
   "outputs": [
    {
     "ename": "NameError",
     "evalue": "name 'n' is not defined",
     "output_type": "error",
     "traceback": [
      "\u001b[1;31m---------------------------------------------------------------------------\u001b[0m",
      "\u001b[1;31mNameError\u001b[0m                                 Traceback (most recent call last)",
      "Cell \u001b[1;32mIn[14], line 4\u001b[0m\n\u001b[0;32m      2\u001b[0m radius_lidar\u001b[38;5;241m.\u001b[39mshape[\u001b[38;5;241m2\u001b[39m]\n\u001b[0;32m      3\u001b[0m row_vec\n\u001b[1;32m----> 4\u001b[0m a\u001b[38;5;241m=\u001b[39m\u001b[43mn\u001b[49m\n",
      "\u001b[1;31mNameError\u001b[0m: name 'n' is not defined"
     ]
    }
   ],
   "source": [
    "#[x_lidar,y_lidar,z_lidar] = sph2cart( deg2rad(angle_laserbeam), deg2rad(angle_laserplane), r_filtered ) # convert to xyz coordinates, in mm\n",
    "radius_lidar.shape[2]\n",
    "row_vec\n",
    "a=n"
   ]
  }
 ],
 "metadata": {
  "kernelspec": {
   "display_name": "lidar",
   "language": "python",
   "name": "python3"
  },
  "language_info": {
   "codemirror_mode": {
    "name": "ipython",
    "version": 3
   },
   "file_extension": ".py",
   "mimetype": "text/x-python",
   "name": "python",
   "nbconvert_exporter": "python",
   "pygments_lexer": "ipython3",
   "version": "3.10.16"
  }
 },
 "nbformat": 4,
 "nbformat_minor": 2
}
