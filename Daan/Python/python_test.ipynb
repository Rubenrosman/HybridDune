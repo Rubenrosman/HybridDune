{
 "cells": [
  {
   "cell_type": "code",
   "execution_count": 2,
   "id": "9af3a1f3",
   "metadata": {},
   "outputs": [],
   "source": [
    "import numpy as np\n",
    "import pandas as pd\n",
    "from datetime import datetime, timedelta\n",
    "\n",
    "\n",
    "import xarray as xr\n",
    "import matplotlib.pyplot as plt\n",
    "import sys\n",
    "from scipy.ndimage import uniform_filter1d\n"
   ]
  },
  {
   "cell_type": "code",
   "execution_count": null,
   "id": "3da7ae0a",
   "metadata": {},
   "outputs": [],
   "source": [
    "# # Python arrays\n",
    "a = np.array([1, 0, 2, 3, 5, 7.])\n",
    "N=6\n",
    "\n",
    "S1 = np.arange(np.ceil(N/2), N)\n",
    "S2 = np.ones(len(a)-N+1)*N\n",
    "S3 = np.arange(N-1, np.floor(N/2), -1)\n",
    "#S = [S1, S2, S3]\n",
    "S = np.concatenate((S1, S2, S3)) \n",
    "\n",
    "y2 = uniform_filter1d(a, size=N, mode='constant') # for even window: backward avg. So window 2: x_m(i)=[x(i-1)+x(i)]/2\n",
    "y2 = y2 * N / S\n",
    "print(a)\n",
    "print(y2)"
   ]
  },
  {
   "cell_type": "code",
   "execution_count": null,
   "id": "0f0a7eab",
   "metadata": {},
   "outputs": [],
   "source": [
    "# Python lists\n",
    "fruits = [\"apple\", \"banana\", \"cherry\"]\n",
    "for i in range(2,3):\n",
    "    fr = fruits[i]\n",
    "    print(fr)\n",
    "#for x in fruits:\n",
    "#  print(x)"
   ]
  },
  {
   "cell_type": "code",
   "execution_count": null,
   "id": "eee120f7",
   "metadata": {},
   "outputs": [],
   "source": [
    "# # Testing moving average\n",
    "\n",
    "def moving_average_w_edges(x, N): # Note: still edge effects\n",
    "    padded = np.pad(x, (N//2, N-1-N//2), mode='symmetric')   # for even window: backward avg. So window 2: x_m(i)=[x(i-1)+x(i)]/2\n",
    "    padded = np.pad(x, (N//2, N-1-N//2), constant_values=0)   # for even window: backward avg. So window 2: x_m(i)=[x(i-1)+x(i)]/2\n",
    "\n",
    "    print(padded)\n",
    "    return np.convolve(padded, np.ones((N,))/N, mode='valid')\n",
    "\n",
    "rng = np.random.default_rng()\n",
    "a = rng.integers(9, size=(5))\n",
    "a = np.array([1, 0, 2, 2, 5.])\n",
    "#a_2d = rng.integers(6, size=(3,3))\n",
    "a_float = a.astype(np.float64)\n",
    "\n",
    "print(a)\n",
    "\n",
    "y = moving_average_w_edges(a,3) # does not work for edges\n",
    "# y = moving_average_w_edges(a_2d,2) # works not for 2D\n",
    "\n",
    "print(y)\n",
    "\n",
    "# Based on uniform filter. Gives same o utput as moving_avg_with_edges, when using mode=symmetric\n",
    "y2 = uniform_filter1d(a_float, size=3, mode='constant') # for even window: backward avg. So window 2: x_m(i)=[x(i-1)+x(i)]/2\n",
    "print(y2) # same output. So same result for edges\n",
    "\n",
    "def running_mean(x, N):\n",
    "    cumsum = np.cumsum(np.insert(x, 0, 0)) \n",
    "    return (cumsum[N:] - cumsum[:-N]) / float(N)\n",
    "\n",
    "y3 = running_mean(a,3)\n",
    "#print(y3)"
   ]
  },
  {
   "cell_type": "code",
   "execution_count": null,
   "id": "eb645802",
   "metadata": {},
   "outputs": [],
   "source": [
    "t1 = datetime(2023, 10, 13, 13, 0, 0)\n",
    "t2 = datetime(2023, 10, 14, 13, 10, 0)\n",
    "t = pd.date_range(t1,t2, freq='{}S'.format(1 / 16) )\n",
    "print(t)\n",
    "\n",
    "ds0_cropped = ds0.sel(t=slice(t0, t_end)) # crop dataset to the time range of interest"
   ]
  },
  {
   "cell_type": "code",
   "execution_count": 67,
   "id": "cd49a1d9",
   "metadata": {},
   "outputs": [
    {
     "name": "stdout",
     "output_type": "stream",
     "text": [
      "0\n",
      "1\n",
      "2\n",
      "apple\n",
      "4\n",
      "5\n",
      "0 generic time units\n"
     ]
    }
   ],
   "source": [
    "F_all = [8, 8, 16, 8, 16, 8] #[hz] sampling frequency\n",
    "\n",
    "for i in range(6):\n",
    "    if i != 3:\n",
    "        print(i)\n",
    "    elif F_all[i] == 8:\n",
    "        print('apple')\n",
    "    else:\n",
    "        print('banana')\n",
    "\n",
    "print(np.timedelta64())"
   ]
  },
  {
   "cell_type": "code",
   "execution_count": 63,
   "id": "da1bf648",
   "metadata": {},
   "outputs": [
    {
     "name": "stdout",
     "output_type": "stream",
     "text": [
      "[1 2 3 4 5 6 7 8]\n",
      "[1 5]\n"
     ]
    }
   ],
   "source": [
    "a = np.array([1, 2, 3, 4, 5,6,7,8])\n",
    "print(a)\n",
    "b = a[::4]\n",
    "print(b)\n"
   ]
  },
  {
   "cell_type": "code",
   "execution_count": 5,
   "id": "fe9d6484",
   "metadata": {},
   "outputs": [
    {
     "name": "stdout",
     "output_type": "stream",
     "text": [
      "<xarray.DataArray (x: 3, y: 4)> Size: 96B\n",
      "array([[ 0,  1,  2,  3],\n",
      "       [ 4,  5,  6,  7],\n",
      "       [ 8,  9, 10, 11]])\n",
      "Dimensions without coordinates: x, y\n",
      "<xarray.DataArray (z: 12)> Size: 96B\n",
      "array([ 0,  1,  2,  3,  4,  5,  6,  7,  8,  9, 10, 11])\n",
      "Coordinates:\n",
      "  * z        (z) object 96B MultiIndex\n",
      "  * x        (z) int64 96B 0 0 0 0 1 1 1 1 2 2 2 2\n",
      "  * y        (z) int64 96B 0 1 2 3 0 1 2 3 0 1 2 3\n"
     ]
    }
   ],
   "source": [
    "# Reshape XArray\n",
    "x = xr.DataArray(np.arange(12).reshape(3, 4), dims=['x', 'y'])\n",
    "print(x)\n",
    "\n",
    "# Reshape XArray to 1d vector\n",
    "x_1d = x.stack(z=('x', 'y'))\n",
    "print(x_1d)"
   ]
  },
  {
   "cell_type": "code",
   "execution_count": 15,
   "id": "01f4b235",
   "metadata": {},
   "outputs": [
    {
     "name": "stdout",
     "output_type": "stream",
     "text": [
      "[[       nan        nan]\n",
      " [ 72429.072 452174.014]\n",
      " [ 72412.478 452150.39 ]\n",
      " [ 72398.36  452130.334]\n",
      " [ 72382.977 452111.119]\n",
      " [ 72444.875 452163.053]]\n",
      "[[ 0.80901699  0.58778525]\n",
      " [-0.58778525  0.80901699]]\n",
      "[[         nan          nan]\n",
      " [710.11347622 290.91258949]\n",
      " [710.57448701 262.04666354]\n",
      " [710.9414061  237.52266651]\n",
      " [709.7905913  212.93550442]\n",
      " [729.34108593 291.33372455]]\n",
      "[         nan 710.11347622 710.57448701 710.9414061  709.7905913\n",
      " 729.34108593]\n"
     ]
    }
   ],
   "source": [
    "# Coordinate transformation\n",
    "xRD_all   = [np.nan,  72429.072,  72412.478,  72398.360,  72382.977,  72444.875]                          # x position of placement in field\n",
    "yRD_all   = [np.nan, 452174.014, 452150.390, 452130.334, 452111.119, 452163.053]                          # y position of placement in field\n",
    "xy_RD = np.array([xRD_all, yRD_all]).T\n",
    "a = np.deg2rad(36)\n",
    "transformation_matrix = np.array([ [np.cos(a), np.sin(a)],[-np.sin(a), np.cos(a)] ])\n",
    "xy_loc = ( xy_RD - [71683.584, 452356.055] ) @ transformation_matrix\n",
    "x_loc_all = xy_loc.T[0]\n",
    "y_loc_all = xy_loc.T[1]\n",
    "\n",
    "print(xy_RD)\n",
    "print(transformation_matrix)\n",
    "print(xy_loc)\n",
    "print(x_loc_all)\n"
   ]
  }
 ],
 "metadata": {
  "kernelspec": {
   "display_name": "lidar",
   "language": "python",
   "name": "python3"
  },
  "language_info": {
   "codemirror_mode": {
    "name": "ipython",
    "version": 3
   },
   "file_extension": ".py",
   "mimetype": "text/x-python",
   "name": "python",
   "nbconvert_exporter": "python",
   "pygments_lexer": "ipython3",
   "version": "3.10.16"
  }
 },
 "nbformat": 4,
 "nbformat_minor": 5
}
