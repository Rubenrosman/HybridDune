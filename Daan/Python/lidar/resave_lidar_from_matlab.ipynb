{
 "cells": [
  {
   "cell_type": "code",
   "execution_count": 1,
   "id": "419c87ab",
   "metadata": {},
   "outputs": [],
   "source": [
    "# Script for importing netcdf, finding optimal shuffle settings for encoding, and then saving the dataset with these settings\n",
    "import numpy as np\n",
    "import xarray as xr\n",
    "import os   \n",
    "import copy\n",
    "import re\n",
    "import datetime"
   ]
  },
  {
   "cell_type": "code",
   "execution_count": 2,
   "id": "8a5970e9",
   "metadata": {},
   "outputs": [],
   "source": [
    "# To change\n",
    "# drop time_string\n",
    "# radius =double(radius)*1000, add scale factor\n",
    "# time_num: chunk\n",
    "# change metadata radius\n",
    "# try to add time coordinate, otherwise change metadata time_num\n",
    "# check first and last time: in open air?\n",
    "# make beam_angle 720*16, drop ini_beam_angle\n",
    "\n",
    "# To try\n",
    "# re-order dimensions"
   ]
  },
  {
   "cell_type": "code",
   "execution_count": null,
   "id": "431da4f6",
   "metadata": {},
   "outputs": [
    {
     "name": "stderr",
     "output_type": "stream",
     "text": [
      "C:\\Users\\dpoppema\\AppData\\Local\\Temp\\ipykernel_57556\\891565181.py:44: FutureWarning: The return type of `Dataset.dims` will be changed to return a set of dimension names in future, in order to be more consistent with `DataArray.dims`. To access a mapping from dimension names to lengths, please use `Dataset.sizes`.\n",
      "  chunksize_t = np.min([28800, ds.dims['t']])  # set chunk size for time dimension, max 28800 (2 hrs of 4hz data), unless total datasize is smaller\n"
     ]
    }
   ],
   "source": [
    "map_file_in = r'O:\\HybridDune experiment\\2024-12-18 to 2024-12-20, Storm 1\\Lidars\\20241220_LiDAR1\\storm1_lidar1_polar_10sInterval - Copy2.nc'\n",
    "map_file_out = r'O:\\HybridDune experiment\\2024-12-18 to 2024-12-20, Storm 1\\Lidars\\20241220_LiDAR1\\sstorm1_lidar1_polar_10sInterval - new2.nc'\n",
    "\n",
    "ds = xr.open_dataset(map_file_in, chunks = \"auto\")  # load the dataset with specified chunking\n",
    "#print(ds.radius_lidar)\n",
    "\n",
    "# cast radius_lidar as float64\n",
    "radius_attrs = ds['radius_lidar'].attrs.copy()\n",
    "ds['radius_lidar'] = ds['radius_lidar'].astype('float64') / 1000 # convert to meters. Removes attributes, so reset/correct them below\n",
    "#ds['radius_lidar'].attrs = radius_attrs  # restore attributes\n",
    "ds['radius_lidar'].attrs = {'long name': 'distance (radius) from lidar to point', \n",
    "                            'units': 'm', \n",
    "                            'comment': 'radius, part of polar coordinates of points. Polar angles per point can be calculated from the profile_angle and beam_angle', \n",
    "                            'dimensions': 'T x 720 x 16 x 3 (Matlab) or reverse order (Python XArray), for number of point clouds x (360°x0.5° angular resolution) x 16 profiles x 3 echos. The lidar registers at most 3 echos at each angle, usually less.'}\n",
    "\n",
    "# rename coordinate time to t\n",
    "ds = ds.rename({'time': 't'})  # rename time coordinate to t\n",
    "ds['t'].attrs['comment'] = 'UTC+1: local wintertime'  # change long_name of t to time\n",
    "\n",
    "# assign values in time_num to coordinate of t\n",
    "ds = ds.assign_coords(t=ds.time_num_int64.values)  # assign values in time_num to coordinate of t\n",
    "\n",
    "# make beam_angle instead of ini_beam_angle\n",
    "angles = np.arange(0, 360, 0.5)  # create angles\n",
    "ini_beam_angle = ds['ini_beam_angle'].values  # get ini_beam_angle values. 1x16 matrix\n",
    "beam_angle = np.repeat(ini_beam_angle[np.newaxis, :], 720, axis=0)  # repeat ini_beam_angle 720 times, for each angle. gives 720x16 matrix\n",
    "beam_angle = beam_angle + np.repeat(angles[:, np.newaxis], 16, axis=1)  # repeat angles for each profile, gives 720x16 matrix\n",
    "\n",
    "\n",
    "ds['beam_angle'] = (('profile_number', 'obs_number'), beam_angle.T)  # add beam_angle as a new coordinate\n",
    "ds['beam_angle'].attrs = {'long name': 'angle of the lidar beam', \n",
    "                          'units': 'degrees', \n",
    "                          'comment': 'the angular resolution is 0.5°. So every next measurement within a profile is exactly 0.5 degrees later. The angle of the first point differs slightly between profiles. Angles are identical between epochs (i.e. over time).'}\n",
    "\n",
    "# Drop variables: time_string, time_num, ini_beam_angle\n",
    "ds = ds.drop_vars('time_string')     # drop time_string variable\n",
    "ds = ds.drop_vars('time_num')        # drop time_num variable\n",
    "ds = ds.drop_vars('time_num_int64')        # drop time_num variable\n",
    "ds = ds.drop_vars('ini_beam_angle')  # drop ini_beam_angle variable\n",
    "#ds = ds[['beam_angle']]  # keep only the 'r' variable\n",
    "\n",
    "# save data\n",
    "compression = {var: {\"zlib\": True, \"complevel\": 4} for var in list(ds.data_vars) + list(ds.coords)}  # temporary dict, with only compression settings\n",
    "chunksize_t = np.min([28800, ds.sizes['t']])  # set chunk size for time dimension, max 28800 (2 hrs of 4hz data), unless total datasize is smaller\n",
    "encoding = {'radius_lidar': { 'scale_factor': 0.001, 'dtype': 'uint16', '_FillValue': 0, 'chunksizes': (1, 1, 120, chunksize_t)},\n",
    "             'intensity':   {                        'dtype': 'uint8',  '_FillValue': 0, 'chunksizes': (1, 1, 120, chunksize_t)} }  # encoding for the dataset  \n",
    "\n",
    "for var, comp in compression.items():  # for each variable in the dataset, \n",
    "    if var in encoding:                # if the variable already has an encoding, update it with the compression settings\n",
    "        encoding[var].update(comp)\n",
    "    else:                              # if the variable does not have an encoding yet, add it \n",
    "        encoding[var] = comp\n",
    "\n",
    "ds.to_netcdf(map_file_out, encoding=encoding, compute=True)  \n",
    "\n"
   ]
  }
 ],
 "metadata": {
  "kernelspec": {
   "display_name": "lidar",
   "language": "python",
   "name": "python3"
  },
  "language_info": {
   "codemirror_mode": {
    "name": "ipython",
    "version": 3
   },
   "file_extension": ".py",
   "mimetype": "text/x-python",
   "name": "python",
   "nbconvert_exporter": "python",
   "pygments_lexer": "ipython3",
   "version": "3.10.16"
  }
 },
 "nbformat": 4,
 "nbformat_minor": 5
}
