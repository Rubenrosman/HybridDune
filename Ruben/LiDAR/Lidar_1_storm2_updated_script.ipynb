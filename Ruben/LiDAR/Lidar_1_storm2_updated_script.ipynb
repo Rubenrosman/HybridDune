{
 "cells": [
  {
   "cell_type": "code",
   "execution_count": 1,
   "metadata": {},
   "outputs": [
    {
     "name": "stdout",
     "output_type": "stream",
     "text": [
      "Jupyter environment detected. Enabling Open3D WebVisualizer.\n",
      "[Open3D INFO] WebRTC GUI backend enabled.\n",
      "[Open3D INFO] WebRTCWindowSystem: HTTP handshake server disabled.\n"
     ]
    }
   ],
   "source": [
    "import open3d as o3d\n",
    "import matplotlib.pyplot as plt\n",
    "import numpy as np\n",
    "import pandas as pd\n",
    "from scipy.spatial import Delaunay\n",
    "from scipy.signal import savgol_filter\n",
    "import matplotlib.pyplot as plt\n"
   ]
  },
  {
   "cell_type": "code",
   "execution_count": 2,
   "metadata": {},
   "outputs": [],
   "source": [
    "# Function to create transects by selecting points around target theta2 values\n",
    "def create_transects_around_target_theta2(point_cloud, target_theta2_values, theta_range=1.5):\n",
    "    return [point_cloud[(point_cloud['theta'] >= target_theta2 - theta_range) & \n",
    "                        (point_cloud['theta'] <= target_theta2 + theta_range)] \n",
    "            for target_theta2 in target_theta2_values]\n",
    "\n",
    "# Function to check if all values in the point_cloud_df have been assigned to a transect\n",
    "def check_unassigned_points(point_cloud_df, transects):\n",
    "    assigned_points = pd.concat(transects)\n",
    "    return point_cloud_df[~point_cloud_df.index.isin(assigned_points.index)].shape[0]"
   ]
  },
  {
   "cell_type": "code",
   "execution_count": 3,
   "metadata": {},
   "outputs": [],
   "source": [
    "def singe_file(pcd_file_path, transformation_matrix):\n",
    "    # Read the point cloud file\n",
    "    pcd = o3d.io.read_point_cloud(pcd_file_path)\n",
    "    \n",
    "    # Extract points as a NumPy array\n",
    "    xyz = np.asarray(pcd.points)\n",
    "\n",
    "    # Convert to spherical coordinates with the z-axis as the reference axis\n",
    "    x, y, z = xyz[:, 0], xyz[:, 1], xyz[:, 2]\n",
    "    rho = np.sqrt(x**2 + y**2 + z**2)\n",
    "    phi = np.arctan2(y, x)\n",
    "    theta_degrees = np.degrees(np.arccos(z / rho))\n",
    "\n",
    "    # Create a DataFrame to store the point cloud data along with theta values\n",
    "    point_cloud_df = pd.DataFrame({'x': x, 'y': y, 'z': z, 'theta': theta_degrees})\n",
    "\n",
    "    # Define the target theta2 values for each transect\n",
    "    target_theta2_values = [97.2, 92.5, 90.0, 87.6, 84.9, 82.7, 80.4, 77.9, 75.7, 73.0, 70.9, 68.0, 66.0, 63.4, 60.9, 55.7]\n",
    "\n",
    "    # Generate transects with theta2 values around the specified target values with increased range\n",
    "    transects = create_transects_around_target_theta2(point_cloud_df, target_theta2_values, theta_range=1)\n",
    "\n",
    "    # Rename the transects starting from 1 going to 16\n",
    "    transect_names = [f'Transect {i}' for i in range(1, 17)]\n",
    "    transect_dict = dict(zip(transect_names, transects))\n",
    "\n",
    "    # Check for unassigned points\n",
    "    unassigned_points_count = check_unassigned_points(point_cloud_df, transects)\n",
    "    if unassigned_points_count > 0:\n",
    "        print(f\"Unassigned points count: {unassigned_points_count}\")\n",
    "\n",
    "    # Remove the 'theta' column from each transect DataFrame\n",
    "    for name in transect_dict:\n",
    "        transect_dict[name] = transect_dict[name].drop(columns=['theta'])\n",
    "\n",
    "    # Select Transect 3 for transformation\n",
    "    A = 3\n",
    "    transect_A = transect_dict[f'Transect {A}']\n",
    "\n",
    "    # Convert transect DataFrame to NumPy array\n",
    "    transect_xyz = transect_A[['x', 'y', 'z']].values\n",
    "\n",
    "    ### REMOVE ###\n",
    "    # to be removed area\n",
    "    z1 ,z2,x1,x2= 1.6 , 5.5, -0.9, 0.2 \n",
    "\n",
    "    # remove points between z= [z1,z2], x=[x1,x2]\n",
    "    transect_xyz = transect_xyz[(transect_xyz['z'] < z1) | (transect_xyz['z'] > z2) | (transect_xyz['x'] < x1) | (transect_xyz['x'] > x2)]\n",
    "    # remove points above z=6\n",
    "    transect_xyz = transect_xyz[transect_xyz['z'] < 6]\n",
    "\n",
    "    # ### Transform to RD ###\n",
    "    # # Apply the transformation matrix\n",
    "    # transect_xyz_homogeneous = np.hstack((transect_xyz, np.ones((transect_xyz.shape[0], 1))))\n",
    "    # transect_xyz_transformed = transect_xyz_homogeneous.dot(transformation_matrix.T)[:, :3]\n",
    "    \n",
    "    # # Create a DataFrame for the transformed transect\n",
    "    # transect_transformed_df = pd.DataFrame(transect_xyz_transformed, columns=['x', 'y', 'z'])\n",
    "\n",
    "    # ### Transform to new System ###\n",
    "    # container_coor = [72448.355, 452047.630, 4.075]  # containrHoekZee2\n",
    "    \n",
    "    # # Angle 54 degrees to radians\n",
    "    # angle = np.radians(54)\n",
    "    \n",
    "    # # Construct the rotation matrix for rotation around the Z-axis and translation to 100,100 container point\n",
    "    # system_rotation = np.array([\n",
    "    #     [np.cos(angle), -np.sin(angle), 0, 100 - container_coor[0]],\n",
    "    #     [np.sin(angle),  np.cos(angle), 0, 100 - container_coor[1]],\n",
    "    #     [0,              0,             1, 0],\n",
    "    #     [0,              0,             0, 1]\n",
    "    # ])\n",
    "\n",
    "    # # Apply the translation back to the origin for X and Y\n",
    "    # transect_xyz_homogeneous = np.hstack((transect_transformed_df[['x', 'y', 'z']].values, np.ones((transect_transformed_df.shape[0], 1))))\n",
    "    # transect_xyz_transformed = transect_xyz_homogeneous.dot(system_rotation.T)[:, :3]\n",
    "    \n",
    "    # # Create a DataFrame for the transformed transect\n",
    "    # transect_transformed_df = pd.DataFrame(transect_xyz_transformed, columns=['x', 'y', 'z'])\n",
    "    transect_transformed_df = transect_xyz\n",
    "    \n",
    "    return transect_transformed_df\n"
   ]
  },
  {
   "cell_type": "code",
   "execution_count": 5,
   "metadata": {},
   "outputs": [
    {
     "name": "stdout",
     "output_type": "stream",
     "text": [
      "[[-2.49809980e-05  8.12676153e-04 -5.83815563e-04  7.24921438e+04]\n",
      " [ 7.06724900e-06 -5.83839603e-04 -8.13012011e-04  4.52127397e+05]\n",
      " [-1.00061635e-03 -2.44125530e-05  8.83309200e-06  4.55827141e+00]\n",
      " [ 0.00000000e+00  0.00000000e+00  0.00000000e+00  1.00000000e+00]]\n"
     ]
    }
   ],
   "source": [
    "# Define the transformation matrix gathered from CloudCompare georeferencing\n",
    "transformation_matrix1 = np.array([\n",
    "    [-0.000024980998,  0.000812676153, -0.000583815563,  492.143829345703],\n",
    "    [ 0.000007067249, -0.000583839603, -0.000813012011,  127.397300720215],\n",
    "    [-0.001000616350, -0.000024412553,  0.000008833092,    4.558271408081],\n",
    "    [ 0.000000000000,  0.000000000000,  0.000000000000,    1.000000000000]\n",
    "])\n",
    "\n",
    "transformation_matrix1[0,3]+=  72000.00 \n",
    "transformation_matrix1[1,3]+=  452000.00\n",
    "transformation_matrix1[3,3]=1\n",
    "\n",
    "# to be removed area\n",
    "z1 ,z2,x1,x2= 1.6 , 5.5, -0.9, 0.2 \n",
    "\n",
    "print(transformation_matrix1)\n",
    "\n",
    "# print(72494.97-transformation_matrix[0,3]-14.55+100)\t\n",
    "# print(72504.20-transformation_matrix[0,3]-14.55+100)"
   ]
  },
  {
   "cell_type": "code",
   "execution_count": 6,
   "metadata": {},
   "outputs": [],
   "source": [
    "# pcd_file1 = r\"U:\\Data\\2024-12-22, Storm 2\\Lidars\\20241223_LiDAR2\\10s interval data\\Lidar2__Pcl_0021_12_2024__16_20_30.064.PCD\"\n",
    "# pcd_file2 = r\"U:\\Data\\2024-12-22, Storm 2\\Lidars\\20241223_LiDAR2\\10s interval data\\Lidar2__Pcl_0022_12_2024__10_23_20.062.PCD\"\n",
    "# pcd_file5 = r\"U:\\Data\\2024-12-22, Storm 2\\Lidars\\20241223_LiDAR2\\10s interval data\\Lidar2__Pcl_0023_12_2024__12_06_30.062.PCD\""
   ]
  },
  {
   "cell_type": "code",
   "execution_count": 7,
   "metadata": {},
   "outputs": [
    {
     "ename": "IndexError",
     "evalue": "only integers, slices (`:`), ellipsis (`...`), numpy.newaxis (`None`) and integer or boolean arrays are valid indices",
     "output_type": "error",
     "traceback": [
      "\u001b[1;31m---------------------------------------------------------------------------\u001b[0m",
      "\u001b[1;31mIndexError\u001b[0m                                Traceback (most recent call last)",
      "Cell \u001b[1;32mIn[7], line 7\u001b[0m\n\u001b[0;32m      4\u001b[0m pcd_file5 \u001b[38;5;241m=\u001b[39m \u001b[38;5;124mr\u001b[39m\u001b[38;5;124m\"\u001b[39m\u001b[38;5;124mD:\u001b[39m\u001b[38;5;124m\\\u001b[39m\u001b[38;5;124mHybridDune\u001b[39m\u001b[38;5;124m\\\u001b[39m\u001b[38;5;124m20241223_LiDAR1\u001b[39m\u001b[38;5;124m\\\u001b[39m\u001b[38;5;124mLidar1__Pcl_0023_12_2024__15_06_30.030.PCD\u001b[39m\u001b[38;5;124m\"\u001b[39m\n\u001b[0;32m      6\u001b[0m \u001b[38;5;66;03m# Process each point cloud through the singe_file function\u001b[39;00m\n\u001b[1;32m----> 7\u001b[0m df1 \u001b[38;5;241m=\u001b[39m \u001b[43msinge_file\u001b[49m\u001b[43m(\u001b[49m\u001b[43mpcd_file1\u001b[49m\u001b[43m,\u001b[49m\u001b[43m \u001b[49m\u001b[43mtransformation_matrix1\u001b[49m\u001b[43m)\u001b[49m\n\u001b[0;32m      8\u001b[0m \u001b[38;5;66;03m# df2 = singe_file(pcd_file2)\u001b[39;00m\n\u001b[0;32m      9\u001b[0m \u001b[38;5;66;03m# # df3 = singe_file(pcd_file3)\u001b[39;00m\n\u001b[0;32m     10\u001b[0m \u001b[38;5;66;03m# # df4 = singe_file(pcd_file4)\u001b[39;00m\n\u001b[0;32m     11\u001b[0m \u001b[38;5;66;03m# df5 = singe_file(pcd_file5)\u001b[39;00m\n",
      "Cell \u001b[1;32mIn[3], line 48\u001b[0m, in \u001b[0;36msinge_file\u001b[1;34m(pcd_file_path, transformation_matrix)\u001b[0m\n\u001b[0;32m     45\u001b[0m z1 ,z2,x1,x2\u001b[38;5;241m=\u001b[39m \u001b[38;5;241m1.6\u001b[39m , \u001b[38;5;241m5.5\u001b[39m, \u001b[38;5;241m-\u001b[39m\u001b[38;5;241m0.9\u001b[39m, \u001b[38;5;241m0.2\u001b[39m \n\u001b[0;32m     47\u001b[0m \u001b[38;5;66;03m# remove points between z= [z1,z2], x=[x1,x2]\u001b[39;00m\n\u001b[1;32m---> 48\u001b[0m transect_xyz \u001b[38;5;241m=\u001b[39m transect_xyz[(\u001b[43mtransect_xyz\u001b[49m\u001b[43m[\u001b[49m\u001b[38;5;124;43m'\u001b[39;49m\u001b[38;5;124;43mz\u001b[39;49m\u001b[38;5;124;43m'\u001b[39;49m\u001b[43m]\u001b[49m \u001b[38;5;241m<\u001b[39m z1) \u001b[38;5;241m|\u001b[39m (transect_xyz[\u001b[38;5;124m'\u001b[39m\u001b[38;5;124mz\u001b[39m\u001b[38;5;124m'\u001b[39m] \u001b[38;5;241m>\u001b[39m z2) \u001b[38;5;241m|\u001b[39m (transect_xyz[\u001b[38;5;124m'\u001b[39m\u001b[38;5;124mx\u001b[39m\u001b[38;5;124m'\u001b[39m] \u001b[38;5;241m<\u001b[39m x1) \u001b[38;5;241m|\u001b[39m (transect_xyz[\u001b[38;5;124m'\u001b[39m\u001b[38;5;124mx\u001b[39m\u001b[38;5;124m'\u001b[39m] \u001b[38;5;241m>\u001b[39m x2)]\n\u001b[0;32m     49\u001b[0m \u001b[38;5;66;03m# remove points above z=6\u001b[39;00m\n\u001b[0;32m     50\u001b[0m transect_xyz \u001b[38;5;241m=\u001b[39m transect_xyz[transect_xyz[\u001b[38;5;124m'\u001b[39m\u001b[38;5;124mz\u001b[39m\u001b[38;5;124m'\u001b[39m] \u001b[38;5;241m<\u001b[39m \u001b[38;5;241m6\u001b[39m]\n",
      "\u001b[1;31mIndexError\u001b[0m: only integers, slices (`:`), ellipsis (`...`), numpy.newaxis (`None`) and integer or boolean arrays are valid indices"
     ]
    }
   ],
   "source": [
    "# # Load point clouds\n",
    "pcd_file1 = r\"D:\\HybridDune\\20241223_LiDAR1\\Lidar1__Pcl_0021_12_2024__16_20_48.030.PCD\"\n",
    "pcd_file2 = r\"D:\\HybridDune\\20241223_LiDAR1\\Lidar1__Pcl_0022_12_2024__11_23_20.780.PCD\"\n",
    "pcd_file5 = r\"D:\\HybridDune\\20241223_LiDAR1\\Lidar1__Pcl_0023_12_2024__15_06_30.030.PCD\"\n",
    "\n",
    "# Process each point cloud through the singe_file function\n",
    "df1 = singe_file(pcd_file1, transformation_matrix1)\n",
    "# df2 = singe_file(pcd_file2)\n",
    "# # df3 = singe_file(pcd_file3)\n",
    "# # df4 = singe_file(pcd_file4)\n",
    "# df5 = singe_file(pcd_file5)\n",
    "\n"
   ]
  },
  {
   "cell_type": "code",
   "execution_count": 8,
   "metadata": {},
   "outputs": [
    {
     "ename": "NameError",
     "evalue": "name 'df1' is not defined",
     "output_type": "error",
     "traceback": [
      "\u001b[1;31m---------------------------------------------------------------------------\u001b[0m",
      "\u001b[1;31mNameError\u001b[0m                                 Traceback (most recent call last)",
      "Cell \u001b[1;32mIn[8], line 1\u001b[0m\n\u001b[1;32m----> 1\u001b[0m plt\u001b[38;5;241m.\u001b[39mscatter(\u001b[43mdf1\u001b[49m[\u001b[38;5;124m'\u001b[39m\u001b[38;5;124mx\u001b[39m\u001b[38;5;124m'\u001b[39m], df1[\u001b[38;5;124m'\u001b[39m\u001b[38;5;124mz\u001b[39m\u001b[38;5;124m'\u001b[39m], color\u001b[38;5;241m=\u001b[39m\u001b[38;5;124m'\u001b[39m\u001b[38;5;124msaddlebrown\u001b[39m\u001b[38;5;124m'\u001b[39m, linewidth\u001b[38;5;241m=\u001b[39m\u001b[38;5;241m2.5\u001b[39m, label\u001b[38;5;241m=\u001b[39m\u001b[38;5;124m'\u001b[39m\u001b[38;5;124m21st Dec 2024 16:20\u001b[39m\u001b[38;5;124m'\u001b[39m)\n",
      "\u001b[1;31mNameError\u001b[0m: name 'df1' is not defined"
     ]
    }
   ],
   "source": [
    "plt.scatter(df1['x'], df1['z'], color='saddlebrown', linewidth=2.5, label='21st Dec 2024 16:20')"
   ]
  },
  {
   "cell_type": "code",
   "execution_count": null,
   "metadata": {},
   "outputs": [],
   "source": [
    "plt.plot(df1['x'], df1['y'], color='saddlebrown', linewidth=2.5, label='21st Dec 2024 16:20')"
   ]
  },
  {
   "cell_type": "code",
   "execution_count": null,
   "metadata": {},
   "outputs": [],
   "source": [
    "# Plot the transformed transects\n",
    "plt.figure(figsize=(10, 6))\n",
    "\n",
    "# Plot each dataframe\n",
    "plt.plot(df1['x'], df1['z'], color='saddlebrown', linewidth=2.5, label='21st Dec 2024 16:20')\n",
    "plt.plot(df2['x'], df2['z'], color='deepskyblue', linewidth=2.5, label='22nd Dec 2024 10:23')\n",
    "plt.plot(df5['x'], df5['z'], color='indigo', linewidth=2.5, label='23rd Dec 2024 12:06')\n",
    "\n",
    "# add line between toe(88.2,1.08) and top (97.5,4.77)\n",
    "x = [89.1, 100.1]\n",
    "y = [1.08, 4.63]\n",
    "plt.plot(x, y, color='grey', linewidth=2.5, label='Concrete Dike')\n",
    "\n",
    "plt.xlabel('Cross-shore Distance [m]')\n",
    "plt.ylabel('Elevation [NAP]')\n",
    "plt.title('Section 1: Dike-in-Dune, Cross-shore Profiles')\n",
    "plt.grid(True)\n",
    "plt.gca().set_aspect('equal', adjustable='box')\n",
    "plt.legend(loc='upper left')\n",
    "plt.xlim(90, 99)\n",
    "plt.ylim(1, 5.5)\n",
    "plt.show()\n",
    "\n",
    "\n",
    "\n",
    "# Calculate surface under the lines from x(90, 99)\n",
    "x1 = 90\n",
    "x2 = 99\n",
    "df1_mask = df1[(df1['x'] >= x1) & (df1['x'] <= x2)]\n",
    "df2_mask = df2[(df2['x'] >= x1) & (df2['x'] <= x2)]\n",
    "df5_mask = df5[(df5['x'] >= x1) & (df5['x'] <= x2)]\n",
    "\n",
    "# Calculate the surface under the lines using the trapezoidal rule\n",
    "surface_df1 = np.trapz(df1_mask['z'], df1_mask['x'])\n",
    "surface_df2 = np.trapz(df2_mask['z'], df2_mask['x'])\n",
    "surface_df5 = np.trapz(df5_mask['z'], df5_mask['x'])\n",
    "\n",
    "print(f\"Surface under the line for df1: {surface_df1} m^2\")\n",
    "print(f\"Surface under the line for df2: {surface_df2} m^2\")\n",
    "print(f\"Surface under the line for df5: {surface_df5} m^2\")\n",
    "print()\n",
    "print(f'surface_df1 - surface_df2: {surface_df1 - surface_df2} m^2')\n",
    "print(f'surface_df1 - surface_df5: {surface_df1 - surface_df5} m^2')\n",
    "print(f'surface_df2 - surface_df5: {surface_df2 - surface_df5} m^2')\n"
   ]
  },
  {
   "cell_type": "code",
   "execution_count": null,
   "metadata": {},
   "outputs": [],
   "source": []
  },
  {
   "cell_type": "code",
   "execution_count": null,
   "metadata": {},
   "outputs": [],
   "source": []
  },
  {
   "cell_type": "code",
   "execution_count": null,
   "metadata": {},
   "outputs": [],
   "source": []
  }
 ],
 "metadata": {
  "kernelspec": {
   "display_name": "Python 3",
   "language": "python",
   "name": "python3"
  },
  "language_info": {
   "codemirror_mode": {
    "name": "ipython",
    "version": 3
   },
   "file_extension": ".py",
   "mimetype": "text/x-python",
   "name": "python",
   "nbconvert_exporter": "python",
   "pygments_lexer": "ipython3",
   "version": "3.9.13"
  }
 },
 "nbformat": 4,
 "nbformat_minor": 2
}
