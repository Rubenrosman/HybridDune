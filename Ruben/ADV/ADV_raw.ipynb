{
 "cells": [
  {
   "cell_type": "code",
   "execution_count": 1,
   "metadata": {},
   "outputs": [],
   "source": [
    "import os\n",
    "import sys\n",
    "sys.path.append(r'C:\\Users\\ruro\\OneDrive - Boskalis\\Documents\\python\\ADV')\n",
    "from vector import Vector\n",
    "from datetime import datetime\n"
   ]
  },
  {
   "cell_type": "code",
   "execution_count": 2,
   "metadata": {},
   "outputs": [],
   "source": [
    "# location of raw data\n",
    "dataFolder = r'C:\\Users\\ruro\\OneDrive - Boskalis\\Documents\\python\\ADV\\ADV_data'\n",
    "# name of the instantiated vector class\n",
    "name = 'vec1'\n",
    "# start time over which to read data (must be larger than first recorded time)\n",
    "tstart = '2020-11-30 17:00:00'\n",
    "# stop time over which to read data (must be smaller than last recorded time)\n",
    "tstop = '2020-12-02 17:00:00'\n",
    "\n",
    "ncOutDir = r'C:\\Users\\ruro\\OneDrive - Boskalis\\Documents\\python\\ADV\\raw_netcdf'"
   ]
  },
  {
   "cell_type": "code",
   "execution_count": 3,
   "metadata": {},
   "outputs": [
    {
     "name": "stderr",
     "output_type": "stream",
     "text": [
      "c:\\Users\\ruro\\OneDrive - Boskalis\\Documents\\python\\ADV\\vector.py:233: FutureWarning: Non-integer 'periods' in pd.date_range, pd.timedelta_range, pd.period_range, and pd.interval_range are deprecated and will raise in a future version.\n",
      "  timeDat = pd.date_range(start =self.tstart, periods = nSamples,\n",
      "c:\\Users\\ruro\\OneDrive - Boskalis\\Documents\\python\\ADV\\vector.py:233: FutureWarning: 'S' is deprecated and will be removed in a future version, please use 's' instead.\n",
      "  timeDat = pd.date_range(start =self.tstart, periods = nSamples,\n"
     ]
    },
    {
     "name": "stdout",
     "output_type": "stream",
     "text": [
      ".dat file was read\n"
     ]
    },
    {
     "name": "stderr",
     "output_type": "stream",
     "text": [
      "c:\\Users\\ruro\\OneDrive - Boskalis\\Documents\\python\\ADV\\vector.py:288: FutureWarning: Non-integer 'periods' in pd.date_range, pd.timedelta_range, pd.period_range, and pd.interval_range are deprecated and will raise in a future version.\n",
      "  timeSen = pd.date_range(start = self.tstart, periods = nSamples,\n",
      "c:\\Users\\ruro\\OneDrive - Boskalis\\Documents\\python\\ADV\\vector.py:288: FutureWarning: 'S' is deprecated and will be removed in a future version, please use 's' instead.\n",
      "  timeSen = pd.date_range(start = self.tstart, periods = nSamples,\n"
     ]
    },
    {
     "name": "stdout",
     "output_type": "stream",
     "text": [
      ".sen file was read\n"
     ]
    },
    {
     "name": "stderr",
     "output_type": "stream",
     "text": [
      "c:\\Users\\ruro\\OneDrive - Boskalis\\Documents\\python\\ADV\\vector.py:323: FutureWarning: 'S' is deprecated and will be removed in a future version, please use 's' instead.\n",
      "  df2 = df2.resample('{}S'.format(1/self.frequency)).asfreq()\n",
      "c:\\Users\\ruro\\OneDrive - Boskalis\\Documents\\python\\ADV\\vector.py:330: FutureWarning: DataFrame.fillna with 'method' is deprecated and will raise in a future version. Use obj.ffill() or obj.bfill() instead.\n",
      "  df3 = df3.fillna(method='ffill')\n"
     ]
    }
   ],
   "source": [
    "# raw data to netcdf\n",
    "vec = Vector(name, dataFolder, tstart=tstart, tstop=tstop)\n",
    "\n",
    "# reads the raw data from tstart to tstop and casts all data in a pandas DataFrame that is stored under vec.dfpuv.\n",
    "# in case there is no data between tstart and tstop the DataFrame is not instantiated\n",
    "vec.read_raw_data()\n",
    "\n",
    "# break up the data into burst blocks\n",
    "vec.cast_to_blocks_in_xarray(blockWidth=600)\n",
    "\n",
    "# compute burst averages (make sure to read vector.py what is happening exactly!)\n",
    "vec.compute_block_averages()\n",
    "\n",
    "# all data is collected in an xarray Dataset ds. We extract this from the class instantiation and\n",
    "# we can easily write it to netCDF\n",
    "ds = vec.ds\n",
    "\n",
    "# add global attribute metadata\n",
    "ds.attrs = {'Conventions': 'CF-1.6',\n",
    "            'title': '{}'.format(vec.name),\n",
    "            'instrument': '{}'.format('vec1'),\n",
    "            'instrument serial number': '{}'.format(16725),\n",
    "            'epsg': 28992,\n",
    "             'x': 117196.6,\n",
    "            'y': 559818.2,\n",
    "            'time zone': 'UTC+2',\n",
    "            'coordinate type': 'XYZ',\n",
    "            'summary': 'December pilot field campaign',\n",
    "            'contact person': 'Marlies van der Lugt',\n",
    "            'emailadres': 'm.a.vanderlugt@tudelft.nl',\n",
    "            'construction datetime': datetime.now().strftime(\"%d-%b-%Y (%H:%M:%S)\"),\n",
    "            'version': 'v1',\n",
    "            'version comments': 'constructed with xarray'}\n",
    "\n",
    "#specify compression for all the variables to reduce file size\n",
    "comp = dict(zlib=True, complevel=5)\n",
    "ds.encoding = {var: comp for var in ds.data_vars}\n",
    "\n",
    "# save to netCDF\n",
    "if not os.path.exists(ncOutDir):\n",
    "    os.mkdir(ncOutDir)\n",
    "ds.to_netcdf(ncOutDir + r'\\{}_pilot.nc'.format(vec.name))\n",
    "#"
   ]
  },
  {
   "cell_type": "code",
   "execution_count": null,
   "metadata": {},
   "outputs": [],
   "source": []
  }
 ],
 "metadata": {
  "kernelspec": {
   "display_name": "Python 3",
   "language": "python",
   "name": "python3"
  },
  "language_info": {
   "codemirror_mode": {
    "name": "ipython",
    "version": 3
   },
   "file_extension": ".py",
   "mimetype": "text/x-python",
   "name": "python",
   "nbconvert_exporter": "python",
   "pygments_lexer": "ipython3",
   "version": "3.9.13"
  }
 },
 "nbformat": 4,
 "nbformat_minor": 2
}
